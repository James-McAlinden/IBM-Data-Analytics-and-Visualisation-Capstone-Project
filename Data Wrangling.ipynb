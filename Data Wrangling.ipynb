{
  "metadata": {
    "kernelspec": {
      "name": "python",
      "display_name": "Python (Pyodide)",
      "language": "python"
    },
    "language_info": {
      "codemirror_mode": {
        "name": "python",
        "version": 3
      },
      "file_extension": ".py",
      "mimetype": "text/x-python",
      "name": "python",
      "nbconvert_exporter": "python",
      "pygments_lexer": "ipython3",
      "version": "3.8"
    },
    "prev_pub_hash": "f4a5be59d8ac55de59eef3528bb08edc9f1816b67184ad14599556eec40d06b8"
  },
  "nbformat_minor": 4,
  "nbformat": 4,
  "cells": [
    {
      "cell_type": "markdown",
      "source": "<p style=\"text-align:center\">\n    <a href=\"https://skills.network\" target=\"_blank\">\n    <img src=\"https://cf-courses-data.s3.us.cloud-object-storage.appdomain.cloud/assets/logos/SN_web_lightmode.png\" width=\"200\" alt=\"Skills Network Logo\">\n    </a>\n</p>\n",
      "metadata": {}
    },
    {
      "cell_type": "markdown",
      "source": "# **Data Wrangling Lab**\n",
      "metadata": {}
    },
    {
      "cell_type": "markdown",
      "source": "Estimated time needed: **45 to 60** minutes\n",
      "metadata": {}
    },
    {
      "cell_type": "markdown",
      "source": "In this assignment you will be performing data wrangling.\n",
      "metadata": {}
    },
    {
      "cell_type": "markdown",
      "source": "## Objectives\n",
      "metadata": {}
    },
    {
      "cell_type": "markdown",
      "source": "In this lab you will perform the following:\n",
      "metadata": {}
    },
    {
      "cell_type": "markdown",
      "source": "-   Identify duplicate values in the dataset.\n\n-   Remove duplicate values from the dataset.\n\n-   Identify missing values in the dataset.\n\n-   Impute the missing values in the dataset.\n\n-   Normalize data in the dataset.\n",
      "metadata": {}
    },
    {
      "cell_type": "markdown",
      "source": "<hr>\n",
      "metadata": {}
    },
    {
      "cell_type": "markdown",
      "source": "## Hands on Lab\n",
      "metadata": {}
    },
    {
      "cell_type": "markdown",
      "source": "Import pandas module.\n",
      "metadata": {}
    },
    {
      "cell_type": "code",
      "source": "import pandas as pd\nprint('Done')",
      "metadata": {
        "trusted": true
      },
      "outputs": [
        {
          "name": "stdout",
          "text": "Done\n",
          "output_type": "stream"
        }
      ],
      "execution_count": 1
    },
    {
      "cell_type": "markdown",
      "source": "Load the dataset into a dataframe.\n",
      "metadata": {}
    },
    {
      "cell_type": "markdown",
      "source": "<h2>Read Data</h2>\n<p>\nWe utilize the <code>pandas.read_csv()</code> function for reading CSV files. However, in this version of the lab, which operates on JupyterLite, the dataset needs to be downloaded to the interface using the provided code below.\n</p>\n",
      "metadata": {}
    },
    {
      "cell_type": "markdown",
      "source": "The functions below will download the dataset into your browser:\n",
      "metadata": {}
    },
    {
      "cell_type": "code",
      "source": "from pyodide.http import pyfetch\n\nasync def download(url, filename):\n    response = await pyfetch(url)\n    if response.status == 200:\n        with open(filename, \"wb\") as f:\n            f.write(await response.bytes())\nprint('Done')",
      "metadata": {
        "trusted": true
      },
      "outputs": [
        {
          "name": "stdout",
          "text": "Done\n",
          "output_type": "stream"
        }
      ],
      "execution_count": 2
    },
    {
      "cell_type": "code",
      "source": "filepath = \"https://cf-courses-data.s3.us.cloud-object-storage.appdomain.cloud/IBM-DA0321EN-SkillsNetwork/labs/Capstone_edX/Module%201/survey_results_public_2020.csv\"\nprint('Done')",
      "metadata": {
        "trusted": true
      },
      "outputs": [
        {
          "name": "stdout",
          "text": "Done\n",
          "output_type": "stream"
        }
      ],
      "execution_count": 3
    },
    {
      "cell_type": "markdown",
      "source": "To obtain the dataset, utilize the download() function as defined above:  \n",
      "metadata": {}
    },
    {
      "cell_type": "code",
      "source": "await download(filepath, \"m1_survey_data.csv\")\nfile_name=\"m1_survey_data.csv\"\nprint('Done')",
      "metadata": {
        "trusted": true
      },
      "outputs": [
        {
          "name": "stdout",
          "text": "Done\n",
          "output_type": "stream"
        }
      ],
      "execution_count": 22
    },
    {
      "cell_type": "markdown",
      "source": "Utilize the Pandas method read_csv() to load the data into a dataframe.\n",
      "metadata": {}
    },
    {
      "cell_type": "code",
      "source": "df = pd.read_csv(file_name, header=0)\nprint('Done')",
      "metadata": {
        "trusted": true
      },
      "outputs": [
        {
          "name": "stdout",
          "text": "Done\n",
          "output_type": "stream"
        }
      ],
      "execution_count": 23
    },
    {
      "cell_type": "markdown",
      "source": "> Note: This version of the lab is working on JupyterLite, which requires the dataset to be downloaded to the interface.While working on the downloaded version of this notebook on their local machines(Jupyter Anaconda), the learners can simply **skip the steps above,** and simply use the URL directly in the `pandas.read_csv()` function. You can uncomment and run the statements in the cell below.\n",
      "metadata": {}
    },
    {
      "cell_type": "code",
      "source": "#df = pd.read_csv(\"https://cf-courses-data.s3.us.cloud-object-storage.appdomain.cloud/IBM-DA0321EN-SkillsNetwork/labs/Capstone_edX/Module%201/survey_results_public_2020.csv\")",
      "metadata": {
        "trusted": true
      },
      "outputs": [],
      "execution_count": 6
    },
    {
      "cell_type": "markdown",
      "source": "## Finding duplicates\n",
      "metadata": {}
    },
    {
      "cell_type": "markdown",
      "source": "In this section you will identify duplicate values in the dataset.\n",
      "metadata": {}
    },
    {
      "cell_type": "markdown",
      "source": " Find how many duplicate rows exist in the dataframe.\n",
      "metadata": {}
    },
    {
      "cell_type": "code",
      "source": "# your code goes\nlen(df)-len(df.drop_duplicates())",
      "metadata": {
        "trusted": true
      },
      "outputs": [
        {
          "execution_count": 24,
          "output_type": "execute_result",
          "data": {
            "text/plain": "0"
          },
          "metadata": {}
        }
      ],
      "execution_count": 24
    },
    {
      "cell_type": "markdown",
      "source": "## Removing duplicates\n",
      "metadata": {}
    },
    {
      "cell_type": "markdown",
      "source": "Remove the duplicate rows from the dataframe.\n",
      "metadata": {}
    },
    {
      "cell_type": "code",
      "source": "# your code goes here\ndf.drop_duplicates(subset=None, keep='first', inplace=False)",
      "metadata": {
        "trusted": true
      },
      "outputs": [
        {
          "execution_count": 25,
          "output_type": "execute_result",
          "data": {
            "text/plain": "       Respondent                                         MainBranch Hobbyist  \\\n0               1                     I am a developer by profession      Yes   \n1               2                     I am a developer by profession       No   \n2               3                        I code primarily as a hobby      Yes   \n3               4                     I am a developer by profession      Yes   \n4               5  I used to be a developer by profession, but no...      Yes   \n...           ...                                                ...      ...   \n64456       64858                                                NaN      Yes   \n64457       64867                                                NaN      Yes   \n64458       64898                                                NaN      Yes   \n64459       64925                                                NaN      Yes   \n64460       65112                                                NaN      Yes   \n\n        Age Age1stCode CompFreq  CompTotal  ConvertedComp             Country  \\\n0       NaN         13  Monthly        NaN            NaN             Germany   \n1       NaN         19      NaN        NaN            NaN      United Kingdom   \n2       NaN         15      NaN        NaN            NaN  Russian Federation   \n3      25.0         18      NaN        NaN            NaN             Albania   \n4      31.0         16      NaN        NaN            NaN       United States   \n...     ...        ...      ...        ...            ...                 ...   \n64456   NaN         16      NaN        NaN            NaN       United States   \n64457   NaN        NaN      NaN        NaN            NaN             Morocco   \n64458   NaN        NaN      NaN        NaN            NaN            Viet Nam   \n64459   NaN        NaN      NaN        NaN            NaN              Poland   \n64460   NaN        NaN      NaN        NaN            NaN               Spain   \n\n         CurrencyDesc  ...                  SurveyEase           SurveyLength  \\\n0       European Euro  ...  Neither easy nor difficult  Appropriate in length   \n1      Pound sterling  ...                         NaN                    NaN   \n2                 NaN  ...  Neither easy nor difficult  Appropriate in length   \n3        Albanian lek  ...                         NaN                    NaN   \n4                 NaN  ...                        Easy              Too short   \n...               ...  ...                         ...                    ...   \n64456             NaN  ...                         NaN                    NaN   \n64457             NaN  ...                         NaN                    NaN   \n64458             NaN  ...                         NaN                    NaN   \n64459             NaN  ...                         NaN                    NaN   \n64460             NaN  ...                         NaN                    NaN   \n\n      Trans                                     UndergradMajor  \\\n0        No  Computer science, computer engineering, or sof...   \n1       NaN  Computer science, computer engineering, or sof...   \n2       NaN                                                NaN   \n3        No  Computer science, computer engineering, or sof...   \n4        No  Computer science, computer engineering, or sof...   \n...     ...                                                ...   \n64456   NaN  Computer science, computer engineering, or sof...   \n64457   NaN                                                NaN   \n64458   NaN                                                NaN   \n64459   NaN                                                NaN   \n64460   NaN  Computer science, computer engineering, or sof...   \n\n            WebframeDesireNextYear                      WebframeWorkedWith  \\\n0                     ASP.NET Core                    ASP.NET;ASP.NET Core   \n1                              NaN                                     NaN   \n2                              NaN                                     NaN   \n3                              NaN                                     NaN   \n4             Django;Ruby on Rails                           Ruby on Rails   \n...                            ...                                     ...   \n64456                          NaN                                     NaN   \n64457                          NaN                                     NaN   \n64458                          NaN                                     NaN   \n64459  Angular;Angular.js;React.js                                     NaN   \n64460          ASP.NET Core;jQuery  Angular;Angular.js;ASP.NET Core;jQuery   \n\n                                  WelcomeChange WorkWeekHrs YearsCode  \\\n0       Just as welcome now as I felt last year        50.0        36   \n1      Somewhat more welcome now than last year         NaN         7   \n2      Somewhat more welcome now than last year         NaN         4   \n3      Somewhat less welcome now than last year        40.0         7   \n4       Just as welcome now as I felt last year         NaN        15   \n...                                         ...         ...       ...   \n64456                                       NaN         NaN        10   \n64457                                       NaN         NaN       NaN   \n64458                                       NaN         NaN       NaN   \n64459                                       NaN         NaN       NaN   \n64460                                       NaN         NaN       NaN   \n\n           YearsCodePro  \n0                    27  \n1                     4  \n2                   NaN  \n3                     4  \n4                     8  \n...                 ...  \n64456  Less than 1 year  \n64457               NaN  \n64458               NaN  \n64459               NaN  \n64460               NaN  \n\n[64461 rows x 61 columns]",
            "text/html": "<div>\n<style scoped>\n    .dataframe tbody tr th:only-of-type {\n        vertical-align: middle;\n    }\n\n    .dataframe tbody tr th {\n        vertical-align: top;\n    }\n\n    .dataframe thead th {\n        text-align: right;\n    }\n</style>\n<table border=\"1\" class=\"dataframe\">\n  <thead>\n    <tr style=\"text-align: right;\">\n      <th></th>\n      <th>Respondent</th>\n      <th>MainBranch</th>\n      <th>Hobbyist</th>\n      <th>Age</th>\n      <th>Age1stCode</th>\n      <th>CompFreq</th>\n      <th>CompTotal</th>\n      <th>ConvertedComp</th>\n      <th>Country</th>\n      <th>CurrencyDesc</th>\n      <th>...</th>\n      <th>SurveyEase</th>\n      <th>SurveyLength</th>\n      <th>Trans</th>\n      <th>UndergradMajor</th>\n      <th>WebframeDesireNextYear</th>\n      <th>WebframeWorkedWith</th>\n      <th>WelcomeChange</th>\n      <th>WorkWeekHrs</th>\n      <th>YearsCode</th>\n      <th>YearsCodePro</th>\n    </tr>\n  </thead>\n  <tbody>\n    <tr>\n      <th>0</th>\n      <td>1</td>\n      <td>I am a developer by profession</td>\n      <td>Yes</td>\n      <td>NaN</td>\n      <td>13</td>\n      <td>Monthly</td>\n      <td>NaN</td>\n      <td>NaN</td>\n      <td>Germany</td>\n      <td>European Euro</td>\n      <td>...</td>\n      <td>Neither easy nor difficult</td>\n      <td>Appropriate in length</td>\n      <td>No</td>\n      <td>Computer science, computer engineering, or sof...</td>\n      <td>ASP.NET Core</td>\n      <td>ASP.NET;ASP.NET Core</td>\n      <td>Just as welcome now as I felt last year</td>\n      <td>50.0</td>\n      <td>36</td>\n      <td>27</td>\n    </tr>\n    <tr>\n      <th>1</th>\n      <td>2</td>\n      <td>I am a developer by profession</td>\n      <td>No</td>\n      <td>NaN</td>\n      <td>19</td>\n      <td>NaN</td>\n      <td>NaN</td>\n      <td>NaN</td>\n      <td>United Kingdom</td>\n      <td>Pound sterling</td>\n      <td>...</td>\n      <td>NaN</td>\n      <td>NaN</td>\n      <td>NaN</td>\n      <td>Computer science, computer engineering, or sof...</td>\n      <td>NaN</td>\n      <td>NaN</td>\n      <td>Somewhat more welcome now than last year</td>\n      <td>NaN</td>\n      <td>7</td>\n      <td>4</td>\n    </tr>\n    <tr>\n      <th>2</th>\n      <td>3</td>\n      <td>I code primarily as a hobby</td>\n      <td>Yes</td>\n      <td>NaN</td>\n      <td>15</td>\n      <td>NaN</td>\n      <td>NaN</td>\n      <td>NaN</td>\n      <td>Russian Federation</td>\n      <td>NaN</td>\n      <td>...</td>\n      <td>Neither easy nor difficult</td>\n      <td>Appropriate in length</td>\n      <td>NaN</td>\n      <td>NaN</td>\n      <td>NaN</td>\n      <td>NaN</td>\n      <td>Somewhat more welcome now than last year</td>\n      <td>NaN</td>\n      <td>4</td>\n      <td>NaN</td>\n    </tr>\n    <tr>\n      <th>3</th>\n      <td>4</td>\n      <td>I am a developer by profession</td>\n      <td>Yes</td>\n      <td>25.0</td>\n      <td>18</td>\n      <td>NaN</td>\n      <td>NaN</td>\n      <td>NaN</td>\n      <td>Albania</td>\n      <td>Albanian lek</td>\n      <td>...</td>\n      <td>NaN</td>\n      <td>NaN</td>\n      <td>No</td>\n      <td>Computer science, computer engineering, or sof...</td>\n      <td>NaN</td>\n      <td>NaN</td>\n      <td>Somewhat less welcome now than last year</td>\n      <td>40.0</td>\n      <td>7</td>\n      <td>4</td>\n    </tr>\n    <tr>\n      <th>4</th>\n      <td>5</td>\n      <td>I used to be a developer by profession, but no...</td>\n      <td>Yes</td>\n      <td>31.0</td>\n      <td>16</td>\n      <td>NaN</td>\n      <td>NaN</td>\n      <td>NaN</td>\n      <td>United States</td>\n      <td>NaN</td>\n      <td>...</td>\n      <td>Easy</td>\n      <td>Too short</td>\n      <td>No</td>\n      <td>Computer science, computer engineering, or sof...</td>\n      <td>Django;Ruby on Rails</td>\n      <td>Ruby on Rails</td>\n      <td>Just as welcome now as I felt last year</td>\n      <td>NaN</td>\n      <td>15</td>\n      <td>8</td>\n    </tr>\n    <tr>\n      <th>...</th>\n      <td>...</td>\n      <td>...</td>\n      <td>...</td>\n      <td>...</td>\n      <td>...</td>\n      <td>...</td>\n      <td>...</td>\n      <td>...</td>\n      <td>...</td>\n      <td>...</td>\n      <td>...</td>\n      <td>...</td>\n      <td>...</td>\n      <td>...</td>\n      <td>...</td>\n      <td>...</td>\n      <td>...</td>\n      <td>...</td>\n      <td>...</td>\n      <td>...</td>\n      <td>...</td>\n    </tr>\n    <tr>\n      <th>64456</th>\n      <td>64858</td>\n      <td>NaN</td>\n      <td>Yes</td>\n      <td>NaN</td>\n      <td>16</td>\n      <td>NaN</td>\n      <td>NaN</td>\n      <td>NaN</td>\n      <td>United States</td>\n      <td>NaN</td>\n      <td>...</td>\n      <td>NaN</td>\n      <td>NaN</td>\n      <td>NaN</td>\n      <td>Computer science, computer engineering, or sof...</td>\n      <td>NaN</td>\n      <td>NaN</td>\n      <td>NaN</td>\n      <td>NaN</td>\n      <td>10</td>\n      <td>Less than 1 year</td>\n    </tr>\n    <tr>\n      <th>64457</th>\n      <td>64867</td>\n      <td>NaN</td>\n      <td>Yes</td>\n      <td>NaN</td>\n      <td>NaN</td>\n      <td>NaN</td>\n      <td>NaN</td>\n      <td>NaN</td>\n      <td>Morocco</td>\n      <td>NaN</td>\n      <td>...</td>\n      <td>NaN</td>\n      <td>NaN</td>\n      <td>NaN</td>\n      <td>NaN</td>\n      <td>NaN</td>\n      <td>NaN</td>\n      <td>NaN</td>\n      <td>NaN</td>\n      <td>NaN</td>\n      <td>NaN</td>\n    </tr>\n    <tr>\n      <th>64458</th>\n      <td>64898</td>\n      <td>NaN</td>\n      <td>Yes</td>\n      <td>NaN</td>\n      <td>NaN</td>\n      <td>NaN</td>\n      <td>NaN</td>\n      <td>NaN</td>\n      <td>Viet Nam</td>\n      <td>NaN</td>\n      <td>...</td>\n      <td>NaN</td>\n      <td>NaN</td>\n      <td>NaN</td>\n      <td>NaN</td>\n      <td>NaN</td>\n      <td>NaN</td>\n      <td>NaN</td>\n      <td>NaN</td>\n      <td>NaN</td>\n      <td>NaN</td>\n    </tr>\n    <tr>\n      <th>64459</th>\n      <td>64925</td>\n      <td>NaN</td>\n      <td>Yes</td>\n      <td>NaN</td>\n      <td>NaN</td>\n      <td>NaN</td>\n      <td>NaN</td>\n      <td>NaN</td>\n      <td>Poland</td>\n      <td>NaN</td>\n      <td>...</td>\n      <td>NaN</td>\n      <td>NaN</td>\n      <td>NaN</td>\n      <td>NaN</td>\n      <td>Angular;Angular.js;React.js</td>\n      <td>NaN</td>\n      <td>NaN</td>\n      <td>NaN</td>\n      <td>NaN</td>\n      <td>NaN</td>\n    </tr>\n    <tr>\n      <th>64460</th>\n      <td>65112</td>\n      <td>NaN</td>\n      <td>Yes</td>\n      <td>NaN</td>\n      <td>NaN</td>\n      <td>NaN</td>\n      <td>NaN</td>\n      <td>NaN</td>\n      <td>Spain</td>\n      <td>NaN</td>\n      <td>...</td>\n      <td>NaN</td>\n      <td>NaN</td>\n      <td>NaN</td>\n      <td>Computer science, computer engineering, or sof...</td>\n      <td>ASP.NET Core;jQuery</td>\n      <td>Angular;Angular.js;ASP.NET Core;jQuery</td>\n      <td>NaN</td>\n      <td>NaN</td>\n      <td>NaN</td>\n      <td>NaN</td>\n    </tr>\n  </tbody>\n</table>\n<p>64461 rows × 61 columns</p>\n</div>"
          },
          "metadata": {}
        }
      ],
      "execution_count": 25
    },
    {
      "cell_type": "markdown",
      "source": "Verify if duplicates were actually dropped.\n",
      "metadata": {}
    },
    {
      "cell_type": "code",
      "source": "# your code goes here\nlen(df)-len(df.drop_duplicates())",
      "metadata": {
        "trusted": true
      },
      "outputs": [
        {
          "execution_count": 27,
          "output_type": "execute_result",
          "data": {
            "text/plain": "0"
          },
          "metadata": {}
        }
      ],
      "execution_count": 27
    },
    {
      "cell_type": "markdown",
      "source": "## Finding Missing values\n",
      "metadata": {}
    },
    {
      "cell_type": "markdown",
      "source": "Find the missing values for all columns.\n",
      "metadata": {}
    },
    {
      "cell_type": "code",
      "source": "# your code goes here\nprint(df.isnull().sum())",
      "metadata": {
        "trusted": true
      },
      "outputs": [
        {
          "name": "stdout",
          "text": "Respondent                0\nMainBranch              299\nHobbyist                 45\nAge                   19015\nAge1stCode             6561\n                      ...  \nWebframeWorkedWith    22182\nWelcomeChange         11778\nWorkWeekHrs           23310\nYearsCode              6777\nYearsCodePro          18112\nLength: 61, dtype: int64\n",
          "output_type": "stream"
        }
      ],
      "execution_count": 28
    },
    {
      "cell_type": "code",
      "source": "# your code goes here\ndf.isna()",
      "metadata": {
        "trusted": true
      },
      "outputs": [
        {
          "execution_count": 29,
          "output_type": "execute_result",
          "data": {
            "text/plain": "       Respondent  MainBranch  Hobbyist    Age  Age1stCode  CompFreq  \\\n0           False       False     False   True       False     False   \n1           False       False     False   True       False      True   \n2           False       False     False   True       False      True   \n3           False       False     False  False       False      True   \n4           False       False     False  False       False      True   \n...           ...         ...       ...    ...         ...       ...   \n64456       False        True     False   True       False      True   \n64457       False        True     False   True        True      True   \n64458       False        True     False   True        True      True   \n64459       False        True     False   True        True      True   \n64460       False        True     False   True        True      True   \n\n       CompTotal  ConvertedComp  Country  CurrencyDesc  ...  SurveyEase  \\\n0           True           True    False         False  ...       False   \n1           True           True    False         False  ...        True   \n2           True           True    False          True  ...       False   \n3           True           True    False         False  ...        True   \n4           True           True    False          True  ...       False   \n...          ...            ...      ...           ...  ...         ...   \n64456       True           True    False          True  ...        True   \n64457       True           True    False          True  ...        True   \n64458       True           True    False          True  ...        True   \n64459       True           True    False          True  ...        True   \n64460       True           True    False          True  ...        True   \n\n       SurveyLength  Trans  UndergradMajor  WebframeDesireNextYear  \\\n0             False  False           False                   False   \n1              True   True           False                    True   \n2             False   True            True                    True   \n3              True  False           False                    True   \n4             False  False           False                   False   \n...             ...    ...             ...                     ...   \n64456          True   True           False                    True   \n64457          True   True            True                    True   \n64458          True   True            True                    True   \n64459          True   True            True                   False   \n64460          True   True           False                   False   \n\n       WebframeWorkedWith  WelcomeChange  WorkWeekHrs  YearsCode  YearsCodePro  \n0                   False          False        False      False         False  \n1                    True          False         True      False         False  \n2                    True          False         True      False          True  \n3                    True          False        False      False         False  \n4                   False          False         True      False         False  \n...                   ...            ...          ...        ...           ...  \n64456                True           True         True      False         False  \n64457                True           True         True       True          True  \n64458                True           True         True       True          True  \n64459                True           True         True       True          True  \n64460               False           True         True       True          True  \n\n[64461 rows x 61 columns]",
            "text/html": "<div>\n<style scoped>\n    .dataframe tbody tr th:only-of-type {\n        vertical-align: middle;\n    }\n\n    .dataframe tbody tr th {\n        vertical-align: top;\n    }\n\n    .dataframe thead th {\n        text-align: right;\n    }\n</style>\n<table border=\"1\" class=\"dataframe\">\n  <thead>\n    <tr style=\"text-align: right;\">\n      <th></th>\n      <th>Respondent</th>\n      <th>MainBranch</th>\n      <th>Hobbyist</th>\n      <th>Age</th>\n      <th>Age1stCode</th>\n      <th>CompFreq</th>\n      <th>CompTotal</th>\n      <th>ConvertedComp</th>\n      <th>Country</th>\n      <th>CurrencyDesc</th>\n      <th>...</th>\n      <th>SurveyEase</th>\n      <th>SurveyLength</th>\n      <th>Trans</th>\n      <th>UndergradMajor</th>\n      <th>WebframeDesireNextYear</th>\n      <th>WebframeWorkedWith</th>\n      <th>WelcomeChange</th>\n      <th>WorkWeekHrs</th>\n      <th>YearsCode</th>\n      <th>YearsCodePro</th>\n    </tr>\n  </thead>\n  <tbody>\n    <tr>\n      <th>0</th>\n      <td>False</td>\n      <td>False</td>\n      <td>False</td>\n      <td>True</td>\n      <td>False</td>\n      <td>False</td>\n      <td>True</td>\n      <td>True</td>\n      <td>False</td>\n      <td>False</td>\n      <td>...</td>\n      <td>False</td>\n      <td>False</td>\n      <td>False</td>\n      <td>False</td>\n      <td>False</td>\n      <td>False</td>\n      <td>False</td>\n      <td>False</td>\n      <td>False</td>\n      <td>False</td>\n    </tr>\n    <tr>\n      <th>1</th>\n      <td>False</td>\n      <td>False</td>\n      <td>False</td>\n      <td>True</td>\n      <td>False</td>\n      <td>True</td>\n      <td>True</td>\n      <td>True</td>\n      <td>False</td>\n      <td>False</td>\n      <td>...</td>\n      <td>True</td>\n      <td>True</td>\n      <td>True</td>\n      <td>False</td>\n      <td>True</td>\n      <td>True</td>\n      <td>False</td>\n      <td>True</td>\n      <td>False</td>\n      <td>False</td>\n    </tr>\n    <tr>\n      <th>2</th>\n      <td>False</td>\n      <td>False</td>\n      <td>False</td>\n      <td>True</td>\n      <td>False</td>\n      <td>True</td>\n      <td>True</td>\n      <td>True</td>\n      <td>False</td>\n      <td>True</td>\n      <td>...</td>\n      <td>False</td>\n      <td>False</td>\n      <td>True</td>\n      <td>True</td>\n      <td>True</td>\n      <td>True</td>\n      <td>False</td>\n      <td>True</td>\n      <td>False</td>\n      <td>True</td>\n    </tr>\n    <tr>\n      <th>3</th>\n      <td>False</td>\n      <td>False</td>\n      <td>False</td>\n      <td>False</td>\n      <td>False</td>\n      <td>True</td>\n      <td>True</td>\n      <td>True</td>\n      <td>False</td>\n      <td>False</td>\n      <td>...</td>\n      <td>True</td>\n      <td>True</td>\n      <td>False</td>\n      <td>False</td>\n      <td>True</td>\n      <td>True</td>\n      <td>False</td>\n      <td>False</td>\n      <td>False</td>\n      <td>False</td>\n    </tr>\n    <tr>\n      <th>4</th>\n      <td>False</td>\n      <td>False</td>\n      <td>False</td>\n      <td>False</td>\n      <td>False</td>\n      <td>True</td>\n      <td>True</td>\n      <td>True</td>\n      <td>False</td>\n      <td>True</td>\n      <td>...</td>\n      <td>False</td>\n      <td>False</td>\n      <td>False</td>\n      <td>False</td>\n      <td>False</td>\n      <td>False</td>\n      <td>False</td>\n      <td>True</td>\n      <td>False</td>\n      <td>False</td>\n    </tr>\n    <tr>\n      <th>...</th>\n      <td>...</td>\n      <td>...</td>\n      <td>...</td>\n      <td>...</td>\n      <td>...</td>\n      <td>...</td>\n      <td>...</td>\n      <td>...</td>\n      <td>...</td>\n      <td>...</td>\n      <td>...</td>\n      <td>...</td>\n      <td>...</td>\n      <td>...</td>\n      <td>...</td>\n      <td>...</td>\n      <td>...</td>\n      <td>...</td>\n      <td>...</td>\n      <td>...</td>\n      <td>...</td>\n    </tr>\n    <tr>\n      <th>64456</th>\n      <td>False</td>\n      <td>True</td>\n      <td>False</td>\n      <td>True</td>\n      <td>False</td>\n      <td>True</td>\n      <td>True</td>\n      <td>True</td>\n      <td>False</td>\n      <td>True</td>\n      <td>...</td>\n      <td>True</td>\n      <td>True</td>\n      <td>True</td>\n      <td>False</td>\n      <td>True</td>\n      <td>True</td>\n      <td>True</td>\n      <td>True</td>\n      <td>False</td>\n      <td>False</td>\n    </tr>\n    <tr>\n      <th>64457</th>\n      <td>False</td>\n      <td>True</td>\n      <td>False</td>\n      <td>True</td>\n      <td>True</td>\n      <td>True</td>\n      <td>True</td>\n      <td>True</td>\n      <td>False</td>\n      <td>True</td>\n      <td>...</td>\n      <td>True</td>\n      <td>True</td>\n      <td>True</td>\n      <td>True</td>\n      <td>True</td>\n      <td>True</td>\n      <td>True</td>\n      <td>True</td>\n      <td>True</td>\n      <td>True</td>\n    </tr>\n    <tr>\n      <th>64458</th>\n      <td>False</td>\n      <td>True</td>\n      <td>False</td>\n      <td>True</td>\n      <td>True</td>\n      <td>True</td>\n      <td>True</td>\n      <td>True</td>\n      <td>False</td>\n      <td>True</td>\n      <td>...</td>\n      <td>True</td>\n      <td>True</td>\n      <td>True</td>\n      <td>True</td>\n      <td>True</td>\n      <td>True</td>\n      <td>True</td>\n      <td>True</td>\n      <td>True</td>\n      <td>True</td>\n    </tr>\n    <tr>\n      <th>64459</th>\n      <td>False</td>\n      <td>True</td>\n      <td>False</td>\n      <td>True</td>\n      <td>True</td>\n      <td>True</td>\n      <td>True</td>\n      <td>True</td>\n      <td>False</td>\n      <td>True</td>\n      <td>...</td>\n      <td>True</td>\n      <td>True</td>\n      <td>True</td>\n      <td>True</td>\n      <td>False</td>\n      <td>True</td>\n      <td>True</td>\n      <td>True</td>\n      <td>True</td>\n      <td>True</td>\n    </tr>\n    <tr>\n      <th>64460</th>\n      <td>False</td>\n      <td>True</td>\n      <td>False</td>\n      <td>True</td>\n      <td>True</td>\n      <td>True</td>\n      <td>True</td>\n      <td>True</td>\n      <td>False</td>\n      <td>True</td>\n      <td>...</td>\n      <td>True</td>\n      <td>True</td>\n      <td>True</td>\n      <td>False</td>\n      <td>False</td>\n      <td>False</td>\n      <td>True</td>\n      <td>True</td>\n      <td>True</td>\n      <td>True</td>\n    </tr>\n  </tbody>\n</table>\n<p>64461 rows × 61 columns</p>\n</div>"
          },
          "metadata": {}
        }
      ],
      "execution_count": 29
    },
    {
      "cell_type": "markdown",
      "source": "## Imputing missing values\n",
      "metadata": {}
    },
    {
      "cell_type": "markdown",
      "source": "Find the  value counts for the column Age.\n",
      "metadata": {}
    },
    {
      "cell_type": "code",
      "source": "# your code goes here\ndf['Age'].value_counts()",
      "metadata": {
        "trusted": true
      },
      "outputs": [
        {
          "execution_count": 30,
          "output_type": "execute_result",
          "data": {
            "text/plain": "25.0    2693\n28.0    2412\n30.0    2406\n26.0    2391\n27.0    2338\n        ... \n34.5       1\n14.7       1\n97.0       1\n3.0        1\n14.5       1\nName: Age, Length: 110, dtype: int64"
          },
          "metadata": {}
        }
      ],
      "execution_count": 30
    },
    {
      "cell_type": "markdown",
      "source": "Find the median for the column Age\n",
      "metadata": {}
    },
    {
      "cell_type": "code",
      "source": "#your code goes here\ndf['Age'].median()",
      "metadata": {
        "trusted": true
      },
      "outputs": [
        {
          "execution_count": 35,
          "output_type": "execute_result",
          "data": {
            "text/plain": "29.0"
          },
          "metadata": {}
        }
      ],
      "execution_count": 35
    },
    {
      "cell_type": "markdown",
      "source": "Impute the median value to Age column\n",
      "metadata": {}
    },
    {
      "cell_type": "code",
      "source": "# your code goes here\ndf['Age'] = df['Age'].fillna(df['Age'].median())",
      "metadata": {
        "trusted": true
      },
      "outputs": [],
      "execution_count": 36
    },
    {
      "cell_type": "code",
      "source": "df",
      "metadata": {
        "trusted": true
      },
      "outputs": [
        {
          "execution_count": 37,
          "output_type": "execute_result",
          "data": {
            "text/plain": "       Respondent                                         MainBranch Hobbyist  \\\n0               1                     I am a developer by profession      Yes   \n1               2                     I am a developer by profession       No   \n2               3                        I code primarily as a hobby      Yes   \n3               4                     I am a developer by profession      Yes   \n4               5  I used to be a developer by profession, but no...      Yes   \n...           ...                                                ...      ...   \n64456       64858                                                NaN      Yes   \n64457       64867                                                NaN      Yes   \n64458       64898                                                NaN      Yes   \n64459       64925                                                NaN      Yes   \n64460       65112                                                NaN      Yes   \n\n        Age Age1stCode CompFreq  CompTotal  ConvertedComp             Country  \\\n0      29.0         13  Monthly        NaN            NaN             Germany   \n1      29.0         19      NaN        NaN            NaN      United Kingdom   \n2      29.0         15      NaN        NaN            NaN  Russian Federation   \n3      25.0         18      NaN        NaN            NaN             Albania   \n4      31.0         16      NaN        NaN            NaN       United States   \n...     ...        ...      ...        ...            ...                 ...   \n64456  29.0         16      NaN        NaN            NaN       United States   \n64457  29.0        NaN      NaN        NaN            NaN             Morocco   \n64458  29.0        NaN      NaN        NaN            NaN            Viet Nam   \n64459  29.0        NaN      NaN        NaN            NaN              Poland   \n64460  29.0        NaN      NaN        NaN            NaN               Spain   \n\n         CurrencyDesc  ...                  SurveyEase           SurveyLength  \\\n0       European Euro  ...  Neither easy nor difficult  Appropriate in length   \n1      Pound sterling  ...                         NaN                    NaN   \n2                 NaN  ...  Neither easy nor difficult  Appropriate in length   \n3        Albanian lek  ...                         NaN                    NaN   \n4                 NaN  ...                        Easy              Too short   \n...               ...  ...                         ...                    ...   \n64456             NaN  ...                         NaN                    NaN   \n64457             NaN  ...                         NaN                    NaN   \n64458             NaN  ...                         NaN                    NaN   \n64459             NaN  ...                         NaN                    NaN   \n64460             NaN  ...                         NaN                    NaN   \n\n      Trans                                     UndergradMajor  \\\n0        No  Computer science, computer engineering, or sof...   \n1       NaN  Computer science, computer engineering, or sof...   \n2       NaN                                                NaN   \n3        No  Computer science, computer engineering, or sof...   \n4        No  Computer science, computer engineering, or sof...   \n...     ...                                                ...   \n64456   NaN  Computer science, computer engineering, or sof...   \n64457   NaN                                                NaN   \n64458   NaN                                                NaN   \n64459   NaN                                                NaN   \n64460   NaN  Computer science, computer engineering, or sof...   \n\n            WebframeDesireNextYear                      WebframeWorkedWith  \\\n0                     ASP.NET Core                    ASP.NET;ASP.NET Core   \n1                              NaN                                     NaN   \n2                              NaN                                     NaN   \n3                              NaN                                     NaN   \n4             Django;Ruby on Rails                           Ruby on Rails   \n...                            ...                                     ...   \n64456                          NaN                                     NaN   \n64457                          NaN                                     NaN   \n64458                          NaN                                     NaN   \n64459  Angular;Angular.js;React.js                                     NaN   \n64460          ASP.NET Core;jQuery  Angular;Angular.js;ASP.NET Core;jQuery   \n\n                                  WelcomeChange WorkWeekHrs YearsCode  \\\n0       Just as welcome now as I felt last year        50.0        36   \n1      Somewhat more welcome now than last year         NaN         7   \n2      Somewhat more welcome now than last year         NaN         4   \n3      Somewhat less welcome now than last year        40.0         7   \n4       Just as welcome now as I felt last year         NaN        15   \n...                                         ...         ...       ...   \n64456                                       NaN         NaN        10   \n64457                                       NaN         NaN       NaN   \n64458                                       NaN         NaN       NaN   \n64459                                       NaN         NaN       NaN   \n64460                                       NaN         NaN       NaN   \n\n           YearsCodePro  \n0                    27  \n1                     4  \n2                   NaN  \n3                     4  \n4                     8  \n...                 ...  \n64456  Less than 1 year  \n64457               NaN  \n64458               NaN  \n64459               NaN  \n64460               NaN  \n\n[64461 rows x 61 columns]",
            "text/html": "<div>\n<style scoped>\n    .dataframe tbody tr th:only-of-type {\n        vertical-align: middle;\n    }\n\n    .dataframe tbody tr th {\n        vertical-align: top;\n    }\n\n    .dataframe thead th {\n        text-align: right;\n    }\n</style>\n<table border=\"1\" class=\"dataframe\">\n  <thead>\n    <tr style=\"text-align: right;\">\n      <th></th>\n      <th>Respondent</th>\n      <th>MainBranch</th>\n      <th>Hobbyist</th>\n      <th>Age</th>\n      <th>Age1stCode</th>\n      <th>CompFreq</th>\n      <th>CompTotal</th>\n      <th>ConvertedComp</th>\n      <th>Country</th>\n      <th>CurrencyDesc</th>\n      <th>...</th>\n      <th>SurveyEase</th>\n      <th>SurveyLength</th>\n      <th>Trans</th>\n      <th>UndergradMajor</th>\n      <th>WebframeDesireNextYear</th>\n      <th>WebframeWorkedWith</th>\n      <th>WelcomeChange</th>\n      <th>WorkWeekHrs</th>\n      <th>YearsCode</th>\n      <th>YearsCodePro</th>\n    </tr>\n  </thead>\n  <tbody>\n    <tr>\n      <th>0</th>\n      <td>1</td>\n      <td>I am a developer by profession</td>\n      <td>Yes</td>\n      <td>29.0</td>\n      <td>13</td>\n      <td>Monthly</td>\n      <td>NaN</td>\n      <td>NaN</td>\n      <td>Germany</td>\n      <td>European Euro</td>\n      <td>...</td>\n      <td>Neither easy nor difficult</td>\n      <td>Appropriate in length</td>\n      <td>No</td>\n      <td>Computer science, computer engineering, or sof...</td>\n      <td>ASP.NET Core</td>\n      <td>ASP.NET;ASP.NET Core</td>\n      <td>Just as welcome now as I felt last year</td>\n      <td>50.0</td>\n      <td>36</td>\n      <td>27</td>\n    </tr>\n    <tr>\n      <th>1</th>\n      <td>2</td>\n      <td>I am a developer by profession</td>\n      <td>No</td>\n      <td>29.0</td>\n      <td>19</td>\n      <td>NaN</td>\n      <td>NaN</td>\n      <td>NaN</td>\n      <td>United Kingdom</td>\n      <td>Pound sterling</td>\n      <td>...</td>\n      <td>NaN</td>\n      <td>NaN</td>\n      <td>NaN</td>\n      <td>Computer science, computer engineering, or sof...</td>\n      <td>NaN</td>\n      <td>NaN</td>\n      <td>Somewhat more welcome now than last year</td>\n      <td>NaN</td>\n      <td>7</td>\n      <td>4</td>\n    </tr>\n    <tr>\n      <th>2</th>\n      <td>3</td>\n      <td>I code primarily as a hobby</td>\n      <td>Yes</td>\n      <td>29.0</td>\n      <td>15</td>\n      <td>NaN</td>\n      <td>NaN</td>\n      <td>NaN</td>\n      <td>Russian Federation</td>\n      <td>NaN</td>\n      <td>...</td>\n      <td>Neither easy nor difficult</td>\n      <td>Appropriate in length</td>\n      <td>NaN</td>\n      <td>NaN</td>\n      <td>NaN</td>\n      <td>NaN</td>\n      <td>Somewhat more welcome now than last year</td>\n      <td>NaN</td>\n      <td>4</td>\n      <td>NaN</td>\n    </tr>\n    <tr>\n      <th>3</th>\n      <td>4</td>\n      <td>I am a developer by profession</td>\n      <td>Yes</td>\n      <td>25.0</td>\n      <td>18</td>\n      <td>NaN</td>\n      <td>NaN</td>\n      <td>NaN</td>\n      <td>Albania</td>\n      <td>Albanian lek</td>\n      <td>...</td>\n      <td>NaN</td>\n      <td>NaN</td>\n      <td>No</td>\n      <td>Computer science, computer engineering, or sof...</td>\n      <td>NaN</td>\n      <td>NaN</td>\n      <td>Somewhat less welcome now than last year</td>\n      <td>40.0</td>\n      <td>7</td>\n      <td>4</td>\n    </tr>\n    <tr>\n      <th>4</th>\n      <td>5</td>\n      <td>I used to be a developer by profession, but no...</td>\n      <td>Yes</td>\n      <td>31.0</td>\n      <td>16</td>\n      <td>NaN</td>\n      <td>NaN</td>\n      <td>NaN</td>\n      <td>United States</td>\n      <td>NaN</td>\n      <td>...</td>\n      <td>Easy</td>\n      <td>Too short</td>\n      <td>No</td>\n      <td>Computer science, computer engineering, or sof...</td>\n      <td>Django;Ruby on Rails</td>\n      <td>Ruby on Rails</td>\n      <td>Just as welcome now as I felt last year</td>\n      <td>NaN</td>\n      <td>15</td>\n      <td>8</td>\n    </tr>\n    <tr>\n      <th>...</th>\n      <td>...</td>\n      <td>...</td>\n      <td>...</td>\n      <td>...</td>\n      <td>...</td>\n      <td>...</td>\n      <td>...</td>\n      <td>...</td>\n      <td>...</td>\n      <td>...</td>\n      <td>...</td>\n      <td>...</td>\n      <td>...</td>\n      <td>...</td>\n      <td>...</td>\n      <td>...</td>\n      <td>...</td>\n      <td>...</td>\n      <td>...</td>\n      <td>...</td>\n      <td>...</td>\n    </tr>\n    <tr>\n      <th>64456</th>\n      <td>64858</td>\n      <td>NaN</td>\n      <td>Yes</td>\n      <td>29.0</td>\n      <td>16</td>\n      <td>NaN</td>\n      <td>NaN</td>\n      <td>NaN</td>\n      <td>United States</td>\n      <td>NaN</td>\n      <td>...</td>\n      <td>NaN</td>\n      <td>NaN</td>\n      <td>NaN</td>\n      <td>Computer science, computer engineering, or sof...</td>\n      <td>NaN</td>\n      <td>NaN</td>\n      <td>NaN</td>\n      <td>NaN</td>\n      <td>10</td>\n      <td>Less than 1 year</td>\n    </tr>\n    <tr>\n      <th>64457</th>\n      <td>64867</td>\n      <td>NaN</td>\n      <td>Yes</td>\n      <td>29.0</td>\n      <td>NaN</td>\n      <td>NaN</td>\n      <td>NaN</td>\n      <td>NaN</td>\n      <td>Morocco</td>\n      <td>NaN</td>\n      <td>...</td>\n      <td>NaN</td>\n      <td>NaN</td>\n      <td>NaN</td>\n      <td>NaN</td>\n      <td>NaN</td>\n      <td>NaN</td>\n      <td>NaN</td>\n      <td>NaN</td>\n      <td>NaN</td>\n      <td>NaN</td>\n    </tr>\n    <tr>\n      <th>64458</th>\n      <td>64898</td>\n      <td>NaN</td>\n      <td>Yes</td>\n      <td>29.0</td>\n      <td>NaN</td>\n      <td>NaN</td>\n      <td>NaN</td>\n      <td>NaN</td>\n      <td>Viet Nam</td>\n      <td>NaN</td>\n      <td>...</td>\n      <td>NaN</td>\n      <td>NaN</td>\n      <td>NaN</td>\n      <td>NaN</td>\n      <td>NaN</td>\n      <td>NaN</td>\n      <td>NaN</td>\n      <td>NaN</td>\n      <td>NaN</td>\n      <td>NaN</td>\n    </tr>\n    <tr>\n      <th>64459</th>\n      <td>64925</td>\n      <td>NaN</td>\n      <td>Yes</td>\n      <td>29.0</td>\n      <td>NaN</td>\n      <td>NaN</td>\n      <td>NaN</td>\n      <td>NaN</td>\n      <td>Poland</td>\n      <td>NaN</td>\n      <td>...</td>\n      <td>NaN</td>\n      <td>NaN</td>\n      <td>NaN</td>\n      <td>NaN</td>\n      <td>Angular;Angular.js;React.js</td>\n      <td>NaN</td>\n      <td>NaN</td>\n      <td>NaN</td>\n      <td>NaN</td>\n      <td>NaN</td>\n    </tr>\n    <tr>\n      <th>64460</th>\n      <td>65112</td>\n      <td>NaN</td>\n      <td>Yes</td>\n      <td>29.0</td>\n      <td>NaN</td>\n      <td>NaN</td>\n      <td>NaN</td>\n      <td>NaN</td>\n      <td>Spain</td>\n      <td>NaN</td>\n      <td>...</td>\n      <td>NaN</td>\n      <td>NaN</td>\n      <td>NaN</td>\n      <td>Computer science, computer engineering, or sof...</td>\n      <td>ASP.NET Core;jQuery</td>\n      <td>Angular;Angular.js;ASP.NET Core;jQuery</td>\n      <td>NaN</td>\n      <td>NaN</td>\n      <td>NaN</td>\n      <td>NaN</td>\n    </tr>\n  </tbody>\n</table>\n<p>64461 rows × 61 columns</p>\n</div>"
          },
          "metadata": {}
        }
      ],
      "execution_count": 37
    },
    {
      "cell_type": "markdown",
      "source": "Identify the value that is most frequent (majority) in the Country column.\n",
      "metadata": {}
    },
    {
      "cell_type": "code",
      "source": "# your code goes here\ncountry = df['Country']\nprint('Done')",
      "metadata": {
        "trusted": true
      },
      "outputs": [
        {
          "name": "stdout",
          "text": "Done\n",
          "output_type": "stream"
        }
      ],
      "execution_count": 38
    },
    {
      "cell_type": "code",
      "source": "country.mode() #United States the most frequent country",
      "metadata": {
        "trusted": true
      },
      "outputs": [
        {
          "execution_count": 39,
          "output_type": "execute_result",
          "data": {
            "text/plain": "0    United States\nName: Country, dtype: object"
          },
          "metadata": {}
        }
      ],
      "execution_count": 39
    },
    {
      "cell_type": "markdown",
      "source": "Drop all the missing values from the dataset\n",
      "metadata": {}
    },
    {
      "cell_type": "code",
      "source": "# your code goes here\ndf_NoNaN = df.dropna()\ndf_NoNaN",
      "metadata": {
        "trusted": true
      },
      "outputs": [
        {
          "execution_count": 47,
          "output_type": "execute_result",
          "data": {
            "text/plain": "       Respondent                      MainBranch Hobbyist   Age Age1stCode  \\\n9              10  I am a developer by profession      Yes  22.0         14   \n32             33  I am a developer by profession      Yes  39.0         14   \n41             42  I am a developer by profession       No  32.0         14   \n46             47  I am a developer by profession      Yes  53.0         10   \n68             69  I am a developer by profession      Yes  25.0         12   \n...           ...                             ...      ...   ...        ...   \n61636       62886  I am a developer by profession      Yes  32.0         24   \n61654       62904  I am a developer by profession      Yes  33.0         24   \n61993       63288  I am a developer by profession       No  31.0         16   \n63141       64523  I am a developer by profession       No  29.0         15   \n63517       64938  I am a developer by profession       No  33.0         13   \n\n      CompFreq  CompTotal  ConvertedComp         Country  \\\n9       Yearly    25000.0        32315.0  United Kingdom   \n32     Monthly     4900.0        63564.0         Belgium   \n41      Yearly   130000.0       130000.0   United States   \n46      Yearly    58000.0        74970.0  United Kingdom   \n68      Yearly   550000.0       594539.0          France   \n...        ...        ...            ...             ...   \n61636   Yearly   102700.0       102700.0   United States   \n61654   Yearly    95000.0        95000.0   United States   \n61993   Yearly    65000.0        84019.0  United Kingdom   \n63141  Monthly     8500.0        23364.0          Brazil   \n63517   Yearly    55000.0        59454.0          France   \n\n               CurrencyDesc  ...           SurveyLength Trans  \\\n9            Pound sterling  ...  Appropriate in length    No   \n32            European Euro  ...  Appropriate in length    No   \n41     United States dollar  ...  Appropriate in length    No   \n46           Pound sterling  ...  Appropriate in length    No   \n68            European Euro  ...              Too short    No   \n...                     ...  ...                    ...   ...   \n61636  United States dollar  ...  Appropriate in length    No   \n61654  United States dollar  ...               Too long    No   \n61993        Pound sterling  ...  Appropriate in length    No   \n63141        Brazilian real  ...  Appropriate in length    No   \n63517         European Euro  ...  Appropriate in length    No   \n\n                                          UndergradMajor  \\\n9                              Mathematics or statistics   \n32     Computer science, computer engineering, or sof...   \n41     Computer science, computer engineering, or sof...   \n46     A natural science (such as biology, chemistry,...   \n68     Computer science, computer engineering, or sof...   \n...                                                  ...   \n61636  Information systems, information technology, o...   \n61654  Computer science, computer engineering, or sof...   \n61993  Computer science, computer engineering, or sof...   \n63141  Computer science, computer engineering, or sof...   \n63517  Computer science, computer engineering, or sof...   \n\n                             WebframeDesireNextYear  \\\n9                                      Flask;jQuery   \n32            Express;Gatsby;React.js;Ruby on Rails   \n41                              ASP.NET Core;Spring   \n46                                     Flask;Spring   \n68                                     Django;Flask   \n...                                             ...   \n61636                                       Angular   \n61654                              Express;React.js   \n61993                    Angular;Angular.js;Express   \n63141  Angular;ASP.NET;ASP.NET Core;React.js;Vue.js   \n63517                                  Django;Flask   \n\n                               WebframeWorkedWith  \\\n9                                    Flask;jQuery   \n32     Angular;Angular.js;Django;Express;React.js   \n41                  ASP.NET;Flask;React.js;Spring   \n46                                   Flask;Spring   \n68                                   Django;Flask   \n...                                           ...   \n61636             Angular;Angular.js;ASP.NET Core   \n61654             Express;Laravel;React.js;Vue.js   \n61993                  Angular;Angular.js;Express   \n63141                 ASP.NET;ASP.NET Core;jQuery   \n63517           Django;Flask;jQuery;Ruby on Rails   \n\n                                  WelcomeChange WorkWeekHrs YearsCode  \\\n9      Somewhat more welcome now than last year        36.0         8   \n32      Just as welcome now as I felt last year        40.0        20   \n41     Somewhat less welcome now than last year        37.0        16   \n46      Just as welcome now as I felt last year        40.0        43   \n68      Just as welcome now as I felt last year        40.0        13   \n...                                         ...         ...       ...   \n61636  Somewhat more welcome now than last year        45.0         7   \n61654   Just as welcome now as I felt last year        50.0         9   \n61993   Just as welcome now as I felt last year        40.0        14   \n63141  Somewhat more welcome now than last year        40.0        19   \n63517   Just as welcome now as I felt last year        40.0        20   \n\n      YearsCodePro NormalizedAnnualCompensation  \n9                4                      25000.0  \n32              14                      58800.0  \n41              10                     130000.0  \n46              28                      58000.0  \n68               3                     550000.0  \n...            ...                          ...  \n61636            5                     102700.0  \n61654            7                      95000.0  \n61993            7                      65000.0  \n63141           17                     102000.0  \n63517           12                      55000.0  \n\n[4387 rows x 62 columns]",
            "text/html": "<div>\n<style scoped>\n    .dataframe tbody tr th:only-of-type {\n        vertical-align: middle;\n    }\n\n    .dataframe tbody tr th {\n        vertical-align: top;\n    }\n\n    .dataframe thead th {\n        text-align: right;\n    }\n</style>\n<table border=\"1\" class=\"dataframe\">\n  <thead>\n    <tr style=\"text-align: right;\">\n      <th></th>\n      <th>Respondent</th>\n      <th>MainBranch</th>\n      <th>Hobbyist</th>\n      <th>Age</th>\n      <th>Age1stCode</th>\n      <th>CompFreq</th>\n      <th>CompTotal</th>\n      <th>ConvertedComp</th>\n      <th>Country</th>\n      <th>CurrencyDesc</th>\n      <th>...</th>\n      <th>SurveyLength</th>\n      <th>Trans</th>\n      <th>UndergradMajor</th>\n      <th>WebframeDesireNextYear</th>\n      <th>WebframeWorkedWith</th>\n      <th>WelcomeChange</th>\n      <th>WorkWeekHrs</th>\n      <th>YearsCode</th>\n      <th>YearsCodePro</th>\n      <th>NormalizedAnnualCompensation</th>\n    </tr>\n  </thead>\n  <tbody>\n    <tr>\n      <th>9</th>\n      <td>10</td>\n      <td>I am a developer by profession</td>\n      <td>Yes</td>\n      <td>22.0</td>\n      <td>14</td>\n      <td>Yearly</td>\n      <td>25000.0</td>\n      <td>32315.0</td>\n      <td>United Kingdom</td>\n      <td>Pound sterling</td>\n      <td>...</td>\n      <td>Appropriate in length</td>\n      <td>No</td>\n      <td>Mathematics or statistics</td>\n      <td>Flask;jQuery</td>\n      <td>Flask;jQuery</td>\n      <td>Somewhat more welcome now than last year</td>\n      <td>36.0</td>\n      <td>8</td>\n      <td>4</td>\n      <td>25000.0</td>\n    </tr>\n    <tr>\n      <th>32</th>\n      <td>33</td>\n      <td>I am a developer by profession</td>\n      <td>Yes</td>\n      <td>39.0</td>\n      <td>14</td>\n      <td>Monthly</td>\n      <td>4900.0</td>\n      <td>63564.0</td>\n      <td>Belgium</td>\n      <td>European Euro</td>\n      <td>...</td>\n      <td>Appropriate in length</td>\n      <td>No</td>\n      <td>Computer science, computer engineering, or sof...</td>\n      <td>Express;Gatsby;React.js;Ruby on Rails</td>\n      <td>Angular;Angular.js;Django;Express;React.js</td>\n      <td>Just as welcome now as I felt last year</td>\n      <td>40.0</td>\n      <td>20</td>\n      <td>14</td>\n      <td>58800.0</td>\n    </tr>\n    <tr>\n      <th>41</th>\n      <td>42</td>\n      <td>I am a developer by profession</td>\n      <td>No</td>\n      <td>32.0</td>\n      <td>14</td>\n      <td>Yearly</td>\n      <td>130000.0</td>\n      <td>130000.0</td>\n      <td>United States</td>\n      <td>United States dollar</td>\n      <td>...</td>\n      <td>Appropriate in length</td>\n      <td>No</td>\n      <td>Computer science, computer engineering, or sof...</td>\n      <td>ASP.NET Core;Spring</td>\n      <td>ASP.NET;Flask;React.js;Spring</td>\n      <td>Somewhat less welcome now than last year</td>\n      <td>37.0</td>\n      <td>16</td>\n      <td>10</td>\n      <td>130000.0</td>\n    </tr>\n    <tr>\n      <th>46</th>\n      <td>47</td>\n      <td>I am a developer by profession</td>\n      <td>Yes</td>\n      <td>53.0</td>\n      <td>10</td>\n      <td>Yearly</td>\n      <td>58000.0</td>\n      <td>74970.0</td>\n      <td>United Kingdom</td>\n      <td>Pound sterling</td>\n      <td>...</td>\n      <td>Appropriate in length</td>\n      <td>No</td>\n      <td>A natural science (such as biology, chemistry,...</td>\n      <td>Flask;Spring</td>\n      <td>Flask;Spring</td>\n      <td>Just as welcome now as I felt last year</td>\n      <td>40.0</td>\n      <td>43</td>\n      <td>28</td>\n      <td>58000.0</td>\n    </tr>\n    <tr>\n      <th>68</th>\n      <td>69</td>\n      <td>I am a developer by profession</td>\n      <td>Yes</td>\n      <td>25.0</td>\n      <td>12</td>\n      <td>Yearly</td>\n      <td>550000.0</td>\n      <td>594539.0</td>\n      <td>France</td>\n      <td>European Euro</td>\n      <td>...</td>\n      <td>Too short</td>\n      <td>No</td>\n      <td>Computer science, computer engineering, or sof...</td>\n      <td>Django;Flask</td>\n      <td>Django;Flask</td>\n      <td>Just as welcome now as I felt last year</td>\n      <td>40.0</td>\n      <td>13</td>\n      <td>3</td>\n      <td>550000.0</td>\n    </tr>\n    <tr>\n      <th>...</th>\n      <td>...</td>\n      <td>...</td>\n      <td>...</td>\n      <td>...</td>\n      <td>...</td>\n      <td>...</td>\n      <td>...</td>\n      <td>...</td>\n      <td>...</td>\n      <td>...</td>\n      <td>...</td>\n      <td>...</td>\n      <td>...</td>\n      <td>...</td>\n      <td>...</td>\n      <td>...</td>\n      <td>...</td>\n      <td>...</td>\n      <td>...</td>\n      <td>...</td>\n      <td>...</td>\n    </tr>\n    <tr>\n      <th>61636</th>\n      <td>62886</td>\n      <td>I am a developer by profession</td>\n      <td>Yes</td>\n      <td>32.0</td>\n      <td>24</td>\n      <td>Yearly</td>\n      <td>102700.0</td>\n      <td>102700.0</td>\n      <td>United States</td>\n      <td>United States dollar</td>\n      <td>...</td>\n      <td>Appropriate in length</td>\n      <td>No</td>\n      <td>Information systems, information technology, o...</td>\n      <td>Angular</td>\n      <td>Angular;Angular.js;ASP.NET Core</td>\n      <td>Somewhat more welcome now than last year</td>\n      <td>45.0</td>\n      <td>7</td>\n      <td>5</td>\n      <td>102700.0</td>\n    </tr>\n    <tr>\n      <th>61654</th>\n      <td>62904</td>\n      <td>I am a developer by profession</td>\n      <td>Yes</td>\n      <td>33.0</td>\n      <td>24</td>\n      <td>Yearly</td>\n      <td>95000.0</td>\n      <td>95000.0</td>\n      <td>United States</td>\n      <td>United States dollar</td>\n      <td>...</td>\n      <td>Too long</td>\n      <td>No</td>\n      <td>Computer science, computer engineering, or sof...</td>\n      <td>Express;React.js</td>\n      <td>Express;Laravel;React.js;Vue.js</td>\n      <td>Just as welcome now as I felt last year</td>\n      <td>50.0</td>\n      <td>9</td>\n      <td>7</td>\n      <td>95000.0</td>\n    </tr>\n    <tr>\n      <th>61993</th>\n      <td>63288</td>\n      <td>I am a developer by profession</td>\n      <td>No</td>\n      <td>31.0</td>\n      <td>16</td>\n      <td>Yearly</td>\n      <td>65000.0</td>\n      <td>84019.0</td>\n      <td>United Kingdom</td>\n      <td>Pound sterling</td>\n      <td>...</td>\n      <td>Appropriate in length</td>\n      <td>No</td>\n      <td>Computer science, computer engineering, or sof...</td>\n      <td>Angular;Angular.js;Express</td>\n      <td>Angular;Angular.js;Express</td>\n      <td>Just as welcome now as I felt last year</td>\n      <td>40.0</td>\n      <td>14</td>\n      <td>7</td>\n      <td>65000.0</td>\n    </tr>\n    <tr>\n      <th>63141</th>\n      <td>64523</td>\n      <td>I am a developer by profession</td>\n      <td>No</td>\n      <td>29.0</td>\n      <td>15</td>\n      <td>Monthly</td>\n      <td>8500.0</td>\n      <td>23364.0</td>\n      <td>Brazil</td>\n      <td>Brazilian real</td>\n      <td>...</td>\n      <td>Appropriate in length</td>\n      <td>No</td>\n      <td>Computer science, computer engineering, or sof...</td>\n      <td>Angular;ASP.NET;ASP.NET Core;React.js;Vue.js</td>\n      <td>ASP.NET;ASP.NET Core;jQuery</td>\n      <td>Somewhat more welcome now than last year</td>\n      <td>40.0</td>\n      <td>19</td>\n      <td>17</td>\n      <td>102000.0</td>\n    </tr>\n    <tr>\n      <th>63517</th>\n      <td>64938</td>\n      <td>I am a developer by profession</td>\n      <td>No</td>\n      <td>33.0</td>\n      <td>13</td>\n      <td>Yearly</td>\n      <td>55000.0</td>\n      <td>59454.0</td>\n      <td>France</td>\n      <td>European Euro</td>\n      <td>...</td>\n      <td>Appropriate in length</td>\n      <td>No</td>\n      <td>Computer science, computer engineering, or sof...</td>\n      <td>Django;Flask</td>\n      <td>Django;Flask;jQuery;Ruby on Rails</td>\n      <td>Just as welcome now as I felt last year</td>\n      <td>40.0</td>\n      <td>20</td>\n      <td>12</td>\n      <td>55000.0</td>\n    </tr>\n  </tbody>\n</table>\n<p>4387 rows × 62 columns</p>\n</div>"
          },
          "metadata": {}
        }
      ],
      "execution_count": 47
    },
    {
      "cell_type": "markdown",
      "source": "## Normalizing data\n",
      "metadata": {}
    },
    {
      "cell_type": "markdown",
      "source": "There are two columns in the dataset that talk about compensation.\n\nOne is \"CompFreq\". This column shows how often a developer is paid (Yearly, Monthly, Weekly).\n\nThe other is \"CompTotal\". This column talks about how much the developer is paid per Year, Month, or Week depending upon his/her \"CompFreq\". \n\nThis makes it difficult to compare the total compensation of the developers.\n\nIn this section you will create a new column called 'NormalizedAnnualCompensation' which contains the 'Annual Compensation' irrespective of the 'CompFreq'.\n\nOnce this column is ready, it makes comparison of salaries easy.\n",
      "metadata": {}
    },
    {
      "cell_type": "markdown",
      "source": "<hr>\n",
      "metadata": {}
    },
    {
      "cell_type": "markdown",
      "source": "List out the various categories in the column 'CompFreq'\n",
      "metadata": {}
    },
    {
      "cell_type": "code",
      "source": "# your code goes here\ndf_NoNaN['CompFreq'].value_counts().unique",
      "metadata": {
        "trusted": true
      },
      "outputs": [
        {
          "execution_count": 48,
          "output_type": "execute_result",
          "data": {
            "text/plain": "<bound method Series.unique of Yearly     2627\nMonthly    1689\nWeekly       71\nName: CompFreq, dtype: int64>"
          },
          "metadata": {}
        }
      ],
      "execution_count": 48
    },
    {
      "cell_type": "markdown",
      "source": "Create a new column named 'NormalizedAnnualCompensation'. Use the hint given below if needed.\n",
      "metadata": {}
    },
    {
      "cell_type": "code",
      "source": "# your code goes here\ndef conditions(s):\n  if (s['CompFreq'] == 'Yearly'):\n    return s['CompTotal']\n  elif (s['CompFreq'] == 'Monthly'):\n    return (s['CompTotal'] * 12)  \n  else:\n    return (s['CompTotal'] * 52)\n\ndf_NoNaN['NormalizedAnnualCompensation'] = df.apply(conditions, axis=1)\ndf_NoNaN.head()",
      "metadata": {
        "trusted": true
      },
      "outputs": [
        {
          "name": "stderr",
          "text": "<ipython-input-49-422213b9c930>:10: SettingWithCopyWarning: \nA value is trying to be set on a copy of a slice from a DataFrame.\nTry using .loc[row_indexer,col_indexer] = value instead\n\nSee the caveats in the documentation: https://pandas.pydata.org/pandas-docs/stable/user_guide/indexing.html#returning-a-view-versus-a-copy\n  df_NoNaN['NormalizedAnnualCompensation'] = df.apply(conditions, axis=1)\n",
          "output_type": "stream"
        },
        {
          "execution_count": 49,
          "output_type": "execute_result",
          "data": {
            "text/plain": "    Respondent                      MainBranch Hobbyist   Age Age1stCode  \\\n9           10  I am a developer by profession      Yes  22.0         14   \n32          33  I am a developer by profession      Yes  39.0         14   \n41          42  I am a developer by profession       No  32.0         14   \n46          47  I am a developer by profession      Yes  53.0         10   \n68          69  I am a developer by profession      Yes  25.0         12   \n\n   CompFreq  CompTotal  ConvertedComp         Country          CurrencyDesc  \\\n9    Yearly    25000.0        32315.0  United Kingdom        Pound sterling   \n32  Monthly     4900.0        63564.0         Belgium         European Euro   \n41   Yearly   130000.0       130000.0   United States  United States dollar   \n46   Yearly    58000.0        74970.0  United Kingdom        Pound sterling   \n68   Yearly   550000.0       594539.0          France         European Euro   \n\n    ...           SurveyLength Trans  \\\n9   ...  Appropriate in length    No   \n32  ...  Appropriate in length    No   \n41  ...  Appropriate in length    No   \n46  ...  Appropriate in length    No   \n68  ...              Too short    No   \n\n                                       UndergradMajor  \\\n9                           Mathematics or statistics   \n32  Computer science, computer engineering, or sof...   \n41  Computer science, computer engineering, or sof...   \n46  A natural science (such as biology, chemistry,...   \n68  Computer science, computer engineering, or sof...   \n\n                   WebframeDesireNextYear  \\\n9                            Flask;jQuery   \n32  Express;Gatsby;React.js;Ruby on Rails   \n41                    ASP.NET Core;Spring   \n46                           Flask;Spring   \n68                           Django;Flask   \n\n                            WebframeWorkedWith  \\\n9                                 Flask;jQuery   \n32  Angular;Angular.js;Django;Express;React.js   \n41               ASP.NET;Flask;React.js;Spring   \n46                                Flask;Spring   \n68                                Django;Flask   \n\n                               WelcomeChange WorkWeekHrs YearsCode  \\\n9   Somewhat more welcome now than last year        36.0         8   \n32   Just as welcome now as I felt last year        40.0        20   \n41  Somewhat less welcome now than last year        37.0        16   \n46   Just as welcome now as I felt last year        40.0        43   \n68   Just as welcome now as I felt last year        40.0        13   \n\n   YearsCodePro NormalizedAnnualCompensation  \n9             4                      25000.0  \n32           14                      58800.0  \n41           10                     130000.0  \n46           28                      58000.0  \n68            3                     550000.0  \n\n[5 rows x 62 columns]",
            "text/html": "<div>\n<style scoped>\n    .dataframe tbody tr th:only-of-type {\n        vertical-align: middle;\n    }\n\n    .dataframe tbody tr th {\n        vertical-align: top;\n    }\n\n    .dataframe thead th {\n        text-align: right;\n    }\n</style>\n<table border=\"1\" class=\"dataframe\">\n  <thead>\n    <tr style=\"text-align: right;\">\n      <th></th>\n      <th>Respondent</th>\n      <th>MainBranch</th>\n      <th>Hobbyist</th>\n      <th>Age</th>\n      <th>Age1stCode</th>\n      <th>CompFreq</th>\n      <th>CompTotal</th>\n      <th>ConvertedComp</th>\n      <th>Country</th>\n      <th>CurrencyDesc</th>\n      <th>...</th>\n      <th>SurveyLength</th>\n      <th>Trans</th>\n      <th>UndergradMajor</th>\n      <th>WebframeDesireNextYear</th>\n      <th>WebframeWorkedWith</th>\n      <th>WelcomeChange</th>\n      <th>WorkWeekHrs</th>\n      <th>YearsCode</th>\n      <th>YearsCodePro</th>\n      <th>NormalizedAnnualCompensation</th>\n    </tr>\n  </thead>\n  <tbody>\n    <tr>\n      <th>9</th>\n      <td>10</td>\n      <td>I am a developer by profession</td>\n      <td>Yes</td>\n      <td>22.0</td>\n      <td>14</td>\n      <td>Yearly</td>\n      <td>25000.0</td>\n      <td>32315.0</td>\n      <td>United Kingdom</td>\n      <td>Pound sterling</td>\n      <td>...</td>\n      <td>Appropriate in length</td>\n      <td>No</td>\n      <td>Mathematics or statistics</td>\n      <td>Flask;jQuery</td>\n      <td>Flask;jQuery</td>\n      <td>Somewhat more welcome now than last year</td>\n      <td>36.0</td>\n      <td>8</td>\n      <td>4</td>\n      <td>25000.0</td>\n    </tr>\n    <tr>\n      <th>32</th>\n      <td>33</td>\n      <td>I am a developer by profession</td>\n      <td>Yes</td>\n      <td>39.0</td>\n      <td>14</td>\n      <td>Monthly</td>\n      <td>4900.0</td>\n      <td>63564.0</td>\n      <td>Belgium</td>\n      <td>European Euro</td>\n      <td>...</td>\n      <td>Appropriate in length</td>\n      <td>No</td>\n      <td>Computer science, computer engineering, or sof...</td>\n      <td>Express;Gatsby;React.js;Ruby on Rails</td>\n      <td>Angular;Angular.js;Django;Express;React.js</td>\n      <td>Just as welcome now as I felt last year</td>\n      <td>40.0</td>\n      <td>20</td>\n      <td>14</td>\n      <td>58800.0</td>\n    </tr>\n    <tr>\n      <th>41</th>\n      <td>42</td>\n      <td>I am a developer by profession</td>\n      <td>No</td>\n      <td>32.0</td>\n      <td>14</td>\n      <td>Yearly</td>\n      <td>130000.0</td>\n      <td>130000.0</td>\n      <td>United States</td>\n      <td>United States dollar</td>\n      <td>...</td>\n      <td>Appropriate in length</td>\n      <td>No</td>\n      <td>Computer science, computer engineering, or sof...</td>\n      <td>ASP.NET Core;Spring</td>\n      <td>ASP.NET;Flask;React.js;Spring</td>\n      <td>Somewhat less welcome now than last year</td>\n      <td>37.0</td>\n      <td>16</td>\n      <td>10</td>\n      <td>130000.0</td>\n    </tr>\n    <tr>\n      <th>46</th>\n      <td>47</td>\n      <td>I am a developer by profession</td>\n      <td>Yes</td>\n      <td>53.0</td>\n      <td>10</td>\n      <td>Yearly</td>\n      <td>58000.0</td>\n      <td>74970.0</td>\n      <td>United Kingdom</td>\n      <td>Pound sterling</td>\n      <td>...</td>\n      <td>Appropriate in length</td>\n      <td>No</td>\n      <td>A natural science (such as biology, chemistry,...</td>\n      <td>Flask;Spring</td>\n      <td>Flask;Spring</td>\n      <td>Just as welcome now as I felt last year</td>\n      <td>40.0</td>\n      <td>43</td>\n      <td>28</td>\n      <td>58000.0</td>\n    </tr>\n    <tr>\n      <th>68</th>\n      <td>69</td>\n      <td>I am a developer by profession</td>\n      <td>Yes</td>\n      <td>25.0</td>\n      <td>12</td>\n      <td>Yearly</td>\n      <td>550000.0</td>\n      <td>594539.0</td>\n      <td>France</td>\n      <td>European Euro</td>\n      <td>...</td>\n      <td>Too short</td>\n      <td>No</td>\n      <td>Computer science, computer engineering, or sof...</td>\n      <td>Django;Flask</td>\n      <td>Django;Flask</td>\n      <td>Just as welcome now as I felt last year</td>\n      <td>40.0</td>\n      <td>13</td>\n      <td>3</td>\n      <td>550000.0</td>\n    </tr>\n  </tbody>\n</table>\n<p>5 rows × 62 columns</p>\n</div>"
          },
          "metadata": {}
        }
      ],
      "execution_count": 49
    },
    {
      "cell_type": "code",
      "source": "df['NormalizedAnnualCompensation'].median()",
      "metadata": {
        "trusted": true
      },
      "outputs": [
        {
          "execution_count": 50,
          "output_type": "execute_result",
          "data": {
            "text/plain": "104000.0"
          },
          "metadata": {}
        }
      ],
      "execution_count": 50
    },
    {
      "cell_type": "markdown",
      "source": "## Authors\n",
      "metadata": {}
    },
    {
      "cell_type": "markdown",
      "source": "Ramesh Sannareddy\n",
      "metadata": {}
    },
    {
      "cell_type": "markdown",
      "source": "### Other Contributors\n",
      "metadata": {}
    },
    {
      "cell_type": "markdown",
      "source": "Rav Ahuja\n",
      "metadata": {}
    },
    {
      "cell_type": "markdown",
      "source": "## Change Log\n",
      "metadata": {}
    },
    {
      "cell_type": "markdown",
      "source": "| Date (YYYY-MM-DD) | Version | Changed By        | Change Description                 |\n| ----------------- | ------- | ----------------- | ---------------------------------- |\n| 2020-10-17        | 0.1     | Ramesh Sannareddy | Created initial version of the lab |\n",
      "metadata": {}
    },
    {
      "cell_type": "markdown",
      "source": " Copyright © 2020 IBM Corporation. This notebook and its source code are released under the terms of the [MIT License](https://cognitiveclass.ai/mit-license?cm_mmc=Email_Newsletter-_-Developer_Ed%2BTech-_-WW_WW-_-SkillsNetwork-Courses-IBM-DA0321EN-SkillsNetwork-21426264&cm_mmca1=000026UJ&cm_mmca2=10006555&cm_mmca3=M12345678&cvosrc=email.Newsletter.M12345678&cvo_campaign=000026UJ&cm_mmc=Email_Newsletter-_-Developer_Ed%2BTech-_-WW_WW-_-SkillsNetwork-Courses-IBM-DA0321EN-SkillsNetwork-21426264&cm_mmca1=000026UJ&cm_mmca2=10006555&cm_mmca3=M12345678&cvosrc=email.Newsletter.M12345678&cvo_campaign=000026UJ&cm_mmc=Email_Newsletter-_-Developer_Ed%2BTech-_-WW_WW-_-SkillsNetwork-Courses-IBM-DA0321EN-SkillsNetwork-21426264&cm_mmca1=000026UJ&cm_mmca2=10006555&cm_mmca3=M12345678&cvosrc=email.Newsletter.M12345678&cvo_campaign=000026UJ&cm_mmc=Email_Newsletter-_-Developer_Ed%2BTech-_-WW_WW-_-SkillsNetwork-Courses-IBM-DA0321EN-SkillsNetwork-21426264&cm_mmca1=000026UJ&cm_mmca2=10006555&cm_mmca3=M12345678&cvosrc=email.Newsletter.M12345678&cvo_campaign=000026UJ&cm_mmc=Email_Newsletter-_-Developer_Ed%2BTech-_-WW_WW-_-SkillsNetwork-Courses-IBM-DA0321EN-SkillsNetwork-21426264&cm_mmca1=000026UJ&cm_mmca2=10006555&cm_mmca3=M12345678&cvosrc=email.Newsletter.M12345678&cvo_campaign=000026UJ&cm_mmc=Email_Newsletter-_-Developer_Ed%2BTech-_-WW_WW-_-SkillsNetwork-Courses-IBM-DA0321EN-SkillsNetwork-21426264&cm_mmca1=000026UJ&cm_mmca2=10006555&cm_mmca3=M12345678&cvosrc=email.Newsletter.M12345678&cvo_campaign=000026UJ).\n",
      "metadata": {}
    }
  ]
}